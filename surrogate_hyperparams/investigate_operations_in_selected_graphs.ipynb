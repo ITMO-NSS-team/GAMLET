{
 "cells": [
  {
   "cell_type": "code",
   "execution_count": 2,
   "metadata": {},
   "outputs": [],
   "source": [
    "import json\n",
    "from tqdm import tqdm\n",
    "from pathlib import Path\n",
    "from fedot.core.pipelines.tuning.search_space import PipelineSearchSpace\n",
    "from fedot.core.pipelines.pipeline import Pipeline\n",
    "import pickle\n",
    "from itertools import chain"
   ]
  },
  {
   "cell_type": "code",
   "execution_count": 21,
   "metadata": {},
   "outputs": [
    {
     "name": "stderr",
     "output_type": "stream",
     "text": [
      "100%|██████████| 84160/84160 [03:36<00:00, 388.54it/s] \n"
     ]
    }
   ],
   "source": [
    "with open(\"/Users/cherniak/itmo_job/GAMLET/surrogate_hyperparams/selected_graphs.pickle\", \"rb\") as f:\n",
    "    paths = pickle.load(f)\n",
    "\n",
    "operations = []\n",
    "for path in tqdm(list(chain.from_iterable(paths))):\n",
    "    operations.extend(Pipeline().load(path).nodes)"
   ]
  },
  {
   "cell_type": "code",
   "execution_count": 30,
   "metadata": {},
   "outputs": [
    {
     "data": {
      "text/plain": [
       "{'bernb',\n",
       " 'dt',\n",
       " 'fast_ica',\n",
       " 'isolation_forest_class',\n",
       " 'knn',\n",
       " 'lgbm',\n",
       " 'logit',\n",
       " 'mlp',\n",
       " 'normalization',\n",
       " 'pca',\n",
       " 'poly_features',\n",
       " 'qda',\n",
       " 'resample',\n",
       " 'rf',\n",
       " 'scaling'}"
      ]
     },
     "execution_count": 30,
     "metadata": {},
     "output_type": "execute_result"
    }
   ],
   "source": [
    "set(map(str, operations))"
   ]
  },
  {
   "cell_type": "code",
   "execution_count": 6,
   "metadata": {},
   "outputs": [],
   "source": [
    "operations = [\n",
    " 'bernb',\n",
    " 'dt',\n",
    " 'fast_ica',\n",
    " 'isolation_forest_class',\n",
    " 'knn',\n",
    " 'lgbm',\n",
    " 'logit',\n",
    " 'mlp',\n",
    " 'normalization',\n",
    " 'pca',\n",
    " 'poly_features',\n",
    " 'qda',\n",
    " 'resample',\n",
    " 'rf',\n",
    " 'scaling',\n",
    "]"
   ]
  },
  {
   "cell_type": "code",
   "execution_count": 4,
   "metadata": {},
   "outputs": [],
   "source": [
    "search_space = PipelineSearchSpace().get_parameters_dict()"
   ]
  },
  {
   "cell_type": "code",
   "execution_count": 7,
   "metadata": {},
   "outputs": [
    {
     "data": {
      "text/plain": [
       "['dt',\n",
       " 'fast_ica',\n",
       " 'isolation_forest_class',\n",
       " 'knn',\n",
       " 'lgbm',\n",
       " 'logit',\n",
       " 'pca',\n",
       " 'poly_features',\n",
       " 'resample',\n",
       " 'rf']"
      ]
     },
     "execution_count": 7,
     "metadata": {},
     "output_type": "execute_result"
    }
   ],
   "source": [
    "list(filter(lambda x: x in search_space.keys(), operations))"
   ]
  },
  {
   "cell_type": "code",
   "execution_count": 10,
   "metadata": {},
   "outputs": [],
   "source": [
    "remained_operations = [\n",
    " 'dt',\n",
    " 'fast_ica',\n",
    " 'isolation_forest_class',\n",
    " 'knn',\n",
    " 'lgbm',\n",
    " 'logit',\n",
    " 'pca',\n",
    " 'poly_features',\n",
    " 'resample',\n",
    " 'rf',\n",
    "]"
   ]
  },
  {
   "cell_type": "code",
   "execution_count": null,
   "metadata": {},
   "outputs": [],
   "source": []
  }
 ],
 "metadata": {
  "kernelspec": {
   "display_name": "MetaFEDOT-0JHEtfLt",
   "language": "python",
   "name": "python3"
  },
  "language_info": {
   "codemirror_mode": {
    "name": "ipython",
    "version": 3
   },
   "file_extension": ".py",
   "mimetype": "text/x-python",
   "name": "python",
   "nbconvert_exporter": "python",
   "pygments_lexer": "ipython3",
   "version": "3.10.13"
  },
  "orig_nbformat": 4
 },
 "nbformat": 4,
 "nbformat_minor": 2
}
