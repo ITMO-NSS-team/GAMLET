{
 "cells": [
  {
   "cell_type": "code",
   "execution_count": 41,
   "metadata": {},
   "outputs": [],
   "source": [
    "import numpy as np\n",
    "import os\n",
    "from pathlib import Path\n",
    "import pandas as pd\n",
    "import pickle\n",
    "import matplotlib.pyplot as plt"
   ]
  },
  {
   "cell_type": "code",
   "execution_count": 42,
   "metadata": {},
   "outputs": [],
   "source": [
    "with open(\"/Users/cherniak/itmo_job/GAMLET/surrogate_hyperparams/collect_dataset/selected_graphs.pickle\", \"rb\") as f:\n",
    "    data = pickle.load(f)\n",
    "keys = list(data.keys())"
   ]
  },
  {
   "cell_type": "code",
   "execution_count": 43,
   "metadata": {},
   "outputs": [],
   "source": [
    "base = Path(\"/Users/cherniak/itmo_job/datasets_folds\")"
   ]
  },
  {
   "cell_type": "code",
   "execution_count": 44,
   "metadata": {},
   "outputs": [],
   "source": [
    "lengths = []\n",
    "for fname in keys:\n",
    "    fold_id = int(fname[-1])\n",
    "    name = fname[:-2]\n",
    "    file = base.joinpath(f\"trainy_{name}_fold{fold_id}.npy\")\n",
    "    lengths.append(len(np.load(file)))"
   ]
  },
  {
   "cell_type": "code",
   "execution_count": 45,
   "metadata": {},
   "outputs": [],
   "source": [
    "sorted_data = {}\n",
    "for i in np.argsort(lengths):\n",
    "    key = keys[i]\n",
    "    sorted_data[key] = data[key]"
   ]
  },
  {
   "cell_type": "code",
   "execution_count": 46,
   "metadata": {},
   "outputs": [],
   "source": [
    "with open(\"/Users/cherniak/itmo_job/GAMLET/surrogate_hyperparams/collect_dataset/sorted_selected_graphs.pickle\", \"wb\") as f:\n",
    "    pickle.dump(sorted_data, f)"
   ]
  },
  {
   "cell_type": "code",
   "execution_count": null,
   "metadata": {},
   "outputs": [],
   "source": []
  }
 ],
 "metadata": {
  "kernelspec": {
   "display_name": "gamlet",
   "language": "python",
   "name": "python3"
  },
  "language_info": {
   "codemirror_mode": {
    "name": "ipython",
    "version": 3
   },
   "file_extension": ".py",
   "mimetype": "text/x-python",
   "name": "python",
   "nbconvert_exporter": "python",
   "pygments_lexer": "ipython3",
   "version": "3.10.13"
  }
 },
 "nbformat": 4,
 "nbformat_minor": 2
}
