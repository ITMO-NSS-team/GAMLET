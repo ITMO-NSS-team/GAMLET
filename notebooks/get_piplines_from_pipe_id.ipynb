{
 "cells": [
  {
   "cell_type": "code",
   "execution_count": 25,
   "metadata": {},
   "outputs": [
    {
     "name": "stdout",
     "output_type": "stream",
     "text": [
      "2023-08-19 14:58:28,526 - No config file found at C:\\Users\\chern\\.openml\\config, using default configuration.\n"
     ]
    }
   ],
   "source": [
    "import os\n",
    "\n",
    "os.chdir(\"../\")\n",
    "\n",
    "import pickle\n",
    "from typing import List, Tuple\n",
    "\n",
    "import numpy as np\n",
    "import pandas as pd\n",
    "from fedot.core.pipelines.pipeline import Pipeline\n",
    "from tqdm import tqdm\n",
    "\n",
    "from meta_automl.data_preparation.dataset import CustomDataset, DatasetIDType\n",
    "from meta_automl.data_preparation.datasets_loaders.custom_datasets_loader import \\\n",
    "    CustomDatasetsLoader\n",
    "from meta_automl.data_preparation.model import Model\n",
    "from meta_automl.data_preparation.models_loaders import \\\n",
    "    KnowledgeBaseModelsLoader"
   ]
  },
  {
   "cell_type": "code",
   "execution_count": 26,
   "metadata": {},
   "outputs": [],
   "source": [
    "PATH_TO_RESULT_CSV = r\"C:\\Users\\chern\\Downloads\\Telegram Desktop\\results.csv\"\n",
    "PATH_TO_CALCULATED_DATA = r\"C:\\Users\\chern\\python_projects\\MetaFEDOT\\collected_data.pickle\""
   ]
  },
  {
   "cell_type": "code",
   "execution_count": 27,
   "metadata": {},
   "outputs": [],
   "source": [
    "df = pd.read_csv(PATH_TO_RESULT_CSV, index_col=0)\n",
    "\n",
    "best_df_pred= df.groupby(\"task_id\").apply(lambda x: x.iloc[x[\"y_pred\"].argmax()][x.columns]).reset_index(drop=True)\n",
    "best_df_true = df.groupby(\"task_id\").apply(lambda x: x.iloc[x[\"y_true\"].argmax()][x.columns]).reset_index(drop=True)"
   ]
  },
  {
   "cell_type": "code",
   "execution_count": 28,
   "metadata": {},
   "outputs": [],
   "source": [
    "# # Uncomment if want to calculate. Otherwise, load data in the cell bellow.\n",
    "\n",
    "# knowledge_base_directory = \"data/knowledge_base_1\"\n",
    "\n",
    "# def dataset_from_id_without_data_loading(dataset_id: DatasetIDType) -> CustomDataset:\n",
    "#     \"\"\" Creates the CustomDataset object without loading the data. Use if your don't need the models\n",
    "#     to load the datasets data into memory, or if you have loaded the cache manually. \"\"\"\n",
    "#     return CustomDataset(dataset_id)\n",
    "\n",
    "# datasets_loader_builder = lambda: CustomDatasetsLoader(dataset_from_id_func=dataset_from_id_without_data_loading)\n",
    "\n",
    "# models_loader = KnowledgeBaseModelsLoader(knowledge_base_directory, datasets_loader = datasets_loader_builder())\n",
    "\n",
    "# df_datasets = models_loader.parse_datasets(\"all\", \"classification\")\n",
    "\n",
    "# def _get_best_pipelines_unique_indexes(dataset_models: List[Model], fitness_coef=-1) -> List[int]:\n",
    "#     temp_df = pd.DataFrame(columns=[\"predictor\", \"fitness\"])\n",
    "#     temp_df[\"predictor\"] = [calc_pipeline_hash(x.predictor) for x in dataset_models]\n",
    "#     temp_df[\"fitness\"] = [fitness_coef * x.fitness.value for x in dataset_models]\n",
    "#     # Select top-1 pipeline\n",
    "#     best_pipelines_unique_indexes = temp_df.groupby('predictor')['fitness'].idxmax().to_list()\n",
    "#     return best_pipelines_unique_indexes\n",
    "\n",
    "# def calc_pipeline_hash(pl: Pipeline)-> Tuple[str]:\n",
    "#     return tuple(str(pl.get_edges())+str(pl.nodes))\n",
    "\n",
    "# dataset_ids = []\n",
    "# dataset_names = []\n",
    "# pipeline_id = 0\n",
    "# models = []\n",
    "# dict_pipelines = dict()\n",
    "\n",
    "# for task_id in tqdm(df_datasets.index):\n",
    "#     dataset = df_datasets.loc[task_id]\n",
    "#     try:\n",
    "#         dataset_id = int(dataset.dataset_id)\n",
    "#     except ValueError:\n",
    "#         dataset_id = dataset.dataset_id\n",
    "\n",
    "#     dataset_ids.append(dataset_id)\n",
    "#     dataset_names.append(dataset[\"dataset_name\"])\n",
    "\n",
    "#     dataset_models = models_loader.load(\n",
    "#         dataset_ids=[dataset_id],\n",
    "#         fitness_metric=\"fitness\",\n",
    "#     )\n",
    "#     best_pipelines_unique_indexes = _get_best_pipelines_unique_indexes(dataset_models)\n",
    "#     for index in best_pipelines_unique_indexes:\n",
    "#         model = dataset_models[index]\n",
    "        \n",
    "#         pipeline_hash = calc_pipeline_hash(model.predictor)\n",
    "#         if pipeline_hash not in dict_pipelines:\n",
    "#             dict_pipelines[pipeline_hash] = pipeline_id\n",
    "#             models.append(model)\n",
    "#             pipeline_id += 1\n",
    "\n",
    "# collected_data = [\n",
    "#     dataset_ids,\n",
    "#     dataset_names,\n",
    "#     models,\n",
    "# ]\n",
    "# with open(PATH_TO_CALCULATED_DATA, \"wb\") as f:\n",
    "#     pickle.dump(collected_data, f)"
   ]
  },
  {
   "cell_type": "code",
   "execution_count": 29,
   "metadata": {},
   "outputs": [
    {
     "name": "stderr",
     "output_type": "stream",
     "text": [
      "c:\\Users\\chern\\.virtualenvs\\MetaFEDOT-0JHEtfLt\\lib\\site-packages\\statsmodels\\genmod\\families\\links.py:13: FutureWarning: The log link alias is deprecated. Use Log instead. The log link alias will be removed after the 0.15.0 release.\n",
      "  warnings.warn(\n",
      "c:\\Users\\chern\\.virtualenvs\\MetaFEDOT-0JHEtfLt\\lib\\site-packages\\statsmodels\\genmod\\families\\links.py:13: FutureWarning: The identity link alias is deprecated. Use Identity instead. The identity link alias will be removed after the 0.15.0 release.\n",
      "  warnings.warn(\n",
      "c:\\Users\\chern\\.virtualenvs\\MetaFEDOT-0JHEtfLt\\lib\\site-packages\\statsmodels\\genmod\\families\\links.py:13: FutureWarning: The inverse_power link alias is deprecated. Use InversePower instead. The inverse_power link alias will be removed after the 0.15.0 release.\n",
      "  warnings.warn(\n",
      "c:\\Users\\chern\\.virtualenvs\\MetaFEDOT-0JHEtfLt\\lib\\site-packages\\statsmodels\\genmod\\families\\links.py:13: FutureWarning: The inverse_squared link alias is deprecated. Use InverseSquared instead. The inverse_squared link alias will be removed after the 0.15.0 release.\n",
      "  warnings.warn(\n"
     ]
    }
   ],
   "source": [
    "with open(PATH_TO_CALCULATED_DATA, \"rb\") as f:\n",
    "    collected_data = pickle.load(f)\n",
    "\n",
    "dataset_ids, dataset_names, models = collected_data"
   ]
  },
  {
   "cell_type": "code",
   "execution_count": null,
   "metadata": {},
   "outputs": [],
   "source": [
    "records = []\n",
    "for _, row in best_df_pred.iterrows():\n",
    "    record = {\n",
    "        \"dataset_id\": dataset_ids[int(row[\"task_id\"])],\n",
    "        \"dataset_name\": dataset_names[int(row[\"task_id\"])],\n",
    "        \"fitness\": models[int(row[\"pipe_id\"])].metadata[\"fitness\"],\n",
    "        \"roc_auc\": models[int(row[\"pipe_id\"])].metadata[\"roc_auc\"],\n",
    "        \"logloss\": models[int(row[\"pipe_id\"])].metadata[\"logloss\"],\n",
    "        \"model_str\": models[int(row[\"pipe_id\"])].predictor,\n",
    "    }\n",
    "    records.append(record)    \n",
    "pd.DataFrame.from_records(records).to_csv(\"surrogate_testset_pred.csv\", index=False)"
   ]
  },
  {
   "cell_type": "code",
   "execution_count": null,
   "metadata": {},
   "outputs": [],
   "source": [
    "records = []\n",
    "for _, row in best_df_true.iterrows():\n",
    "    record = {\n",
    "        \"dataset_id\": dataset_ids[int(row[\"task_id\"])],\n",
    "        \"dataset_name\": dataset_names[int(row[\"task_id\"])],\n",
    "        \"fitness\": models[int(row[\"pipe_id\"])].metadata[\"fitness\"],\n",
    "        \"roc_auc\": models[int(row[\"pipe_id\"])].metadata[\"roc_auc\"],\n",
    "        \"logloss\": models[int(row[\"pipe_id\"])].metadata[\"logloss\"],\n",
    "        \"model_str\": models[int(row[\"pipe_id\"])].predictor,\n",
    "    }\n",
    "    records.append(record)    \n",
    "pd.DataFrame.from_records(records).to_csv(\"surrogate_testset_true.csv\", index=False)"
   ]
  },
  {
   "cell_type": "code",
   "execution_count": null,
   "metadata": {},
   "outputs": [],
   "source": []
  }
 ],
 "metadata": {
  "kernelspec": {
   "display_name": "MetaFEDOT-0JHEtfLt",
   "language": "python",
   "name": "python3"
  },
  "language_info": {
   "codemirror_mode": {
    "name": "ipython",
    "version": 3
   },
   "file_extension": ".py",
   "mimetype": "text/x-python",
   "name": "python",
   "nbconvert_exporter": "python",
   "pygments_lexer": "ipython3",
   "version": "3.8.0"
  },
  "orig_nbformat": 4
 },
 "nbformat": 4,
 "nbformat_minor": 2
}
