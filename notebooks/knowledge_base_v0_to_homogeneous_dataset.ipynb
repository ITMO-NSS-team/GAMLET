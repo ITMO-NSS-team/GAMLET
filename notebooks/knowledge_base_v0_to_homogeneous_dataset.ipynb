{
 "cells": [
  {
   "cell_type": "code",
   "execution_count": 8,
   "outputs": [
    {
     "data": {
      "text/plain": "'Run this notebook from the repo root.'"
     },
     "execution_count": 8,
     "metadata": {},
     "output_type": "execute_result"
    }
   ],
   "source": [
    "\"\"\"Run this notebook from the repo root.\"\"\""
   ],
   "metadata": {
    "collapsed": false,
    "ExecuteTime": {
     "end_time": "2023-05-03T03:17:29.560442800Z",
     "start_time": "2023-05-03T03:17:29.544448100Z"
    }
   }
  },
  {
   "cell_type": "code",
   "execution_count": 9,
   "outputs": [],
   "source": [
    "import os\n",
    "\n",
    "os.chdir(r\"C:\\Users\\zvfrf\\PycharmProjects\\meta-automl-research\")"
   ],
   "metadata": {
    "collapsed": false,
    "ExecuteTime": {
     "end_time": "2023-05-03T03:17:29.586448Z",
     "start_time": "2023-05-03T03:17:29.563446Z"
    }
   }
  },
  {
   "cell_type": "code",
   "execution_count": 10,
   "outputs": [],
   "source": [
    "from meta_automl.data_preparation.models_loaders import KnowledgeBaseModelsLoader\n",
    "import pickle\n",
    "from tqdm import tqdm"
   ],
   "metadata": {
    "collapsed": false,
    "ExecuteTime": {
     "end_time": "2023-05-03T03:17:29.606470400Z",
     "start_time": "2023-05-03T03:17:29.579446300Z"
    }
   }
  },
  {
   "cell_type": "code",
   "execution_count": 11,
   "outputs": [
    {
     "name": "stderr",
     "output_type": "stream",
     "text": [
      "100%|██████████| 43/43 [00:00<00:00, 167.46it/s]\n"
     ]
    }
   ],
   "source": [
    "models_loader = KnowledgeBaseModelsLoader()\n",
    "\n",
    "for split in (\"all\",):\n",
    "    # DataFrame in the form (dataset_id, dataset_name)\n",
    "    train_datasets = models_loader.parse_datasets(split)\n",
    "\n",
    "    models_for_train = {}\n",
    "    for dataset_name in train_datasets[\"dataset_name\"]:\n",
    "        dataset_models = models_loader.load(\n",
    "            dataset_names=[dataset_name],  # load models just for this exact dataset.\n",
    "            fitness_metric=\"logloss\",  # must correspond to a metric name in a knowledge base.\n",
    "        )\n",
    "        models_for_train[dataset_name] = dataset_models\n",
    "\n",
    "    dataset_root = f\"./data/knowledge_base_v0_homogeneous_dataset_{split}\"\n",
    "    pipelines_subdir = os.path.join(dataset_root, \"pipelines\")\n",
    "    metrics_subdir = os.path.join(dataset_root, \"metrics\")\n",
    "\n",
    "    if not os.path.exists(dataset_root):\n",
    "        os.mkdir(dataset_root)\n",
    "    if not os.path.exists(pipelines_subdir):\n",
    "        os.mkdir(pipelines_subdir)\n",
    "    if not os.path.exists(metrics_subdir):\n",
    "        os.mkdir(metrics_subdir)\n",
    "\n",
    "    for dataset, data in tqdm(models_for_train.items()):\n",
    "        for i, record in enumerate(data):\n",
    "            predictor = record.predictor\n",
    "            fitness_value = record.fitness.value\n",
    "            predictor.save(os.path.join(pipelines_subdir, f\"{dataset}_{i}_pipeline.json\"))\n",
    "            with open(os.path.join(metrics_subdir, f\"{dataset}_{i}_pipeline.pickle\"), \"wb\") as f:\n",
    "                pickle.dump({\"fitness\": fitness_value}, f)"
   ],
   "metadata": {
    "collapsed": false,
    "ExecuteTime": {
     "end_time": "2023-05-03T03:17:30.407344200Z",
     "start_time": "2023-05-03T03:17:29.607453Z"
    }
   }
  }
 ],
 "metadata": {
  "kernelspec": {
   "display_name": "Python 3",
   "language": "python",
   "name": "python3"
  },
  "language_info": {
   "codemirror_mode": {
    "name": "ipython",
    "version": 2
   },
   "file_extension": ".py",
   "mimetype": "text/x-python",
   "name": "python",
   "nbconvert_exporter": "python",
   "pygments_lexer": "ipython2",
   "version": "2.7.6"
  }
 },
 "nbformat": 4,
 "nbformat_minor": 0
}
