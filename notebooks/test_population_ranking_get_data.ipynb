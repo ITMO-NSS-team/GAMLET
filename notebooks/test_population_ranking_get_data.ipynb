{
 "cells": [
  {
   "cell_type": "code",
   "execution_count": 1,
   "metadata": {
    "collapsed": true
   },
   "outputs": [],
   "source": [
    "import pickle\n",
    "from pathlib import Path\n",
    "import json\n",
    "import numpy as np\n",
    "from fedot.api.main import Fedot\n",
    "from fedot.core.pipelines.adapters import PipelineAdapter"
   ]
  },
  {
   "cell_type": "code",
   "execution_count": 2,
   "outputs": [],
   "source": [
    "features = np.load(r\"C:\\Users\\Konstantin\\PycharmProjects\\NIR\\dataset\\synthetic_dataset\\features.npy\")\n",
    "target = np.load(r\"C:\\Users\\Konstantin\\PycharmProjects\\NIR\\dataset\\synthetic_dataset\\target.npy\")"
   ],
   "metadata": {
    "collapsed": false
   }
  },
  {
   "cell_type": "code",
   "execution_count": 3,
   "outputs": [],
   "source": [
    "adapter = PipelineAdapter()"
   ],
   "metadata": {
    "collapsed": false
   }
  },
  {
   "cell_type": "code",
   "execution_count": 4,
   "outputs": [],
   "source": [
    "api = Fedot(\"classification\", timeout=15)"
   ],
   "metadata": {
    "collapsed": false
   }
  },
  {
   "cell_type": "code",
   "execution_count": 5,
   "outputs": [
    {
     "name": "stdout",
     "output_type": "stream",
     "text": [
      "2023-03-29 00:35:10,287 - AssumptionsHandler - Memory consumption for fitting of the initial pipeline in main session: current 79.6 MiB, max: 138.6 MiB\n",
      "2023-03-29 00:35:10,291 - ApiComposer - Initial pipeline was fitted in 4.8 sec.\n",
      "2023-03-29 00:35:10,292 - AssumptionsHandler - Preset was changed to best_quality due to fit time estimation for initial model.\n",
      "2023-03-29 00:35:10,299 - ApiComposer - AutoML configured. Parameters tuning: True. Time limit: 15 min. Set of candidate models: ['knn', 'dt', 'scaling', 'qda', 'resample', 'fast_ica', 'pca', 'normalization', 'logit', 'lgbm', 'isolation_forest_class', 'poly_features', 'mlp', 'bernb', 'rf', 'knn', 'dt', 'scaling', 'qda', 'resample', 'fast_ica', 'pca', 'normalization', 'logit', 'lgbm', 'isolation_forest_class', 'poly_features', 'mlp', 'bernb', 'rf'].\n",
      "2023-03-29 00:35:10,305 - ApiComposer - Pipeline composition started.\n"
     ]
    },
    {
     "name": "stderr",
     "output_type": "stream",
     "text": [
      "Generations:   0%|          | 1/10000 [00:00<?, ?gen/s]"
     ]
    },
    {
     "name": "stdout",
     "output_type": "stream",
     "text": [
      "2023-03-29 00:35:20,445 - MultiprocessingDispatcher - 1 individuals out of 1 in previous population were evaluated successfully.\n",
      "2023-03-29 00:37:34,163 - MultiprocessingDispatcher - 21 individuals out of 21 in previous population were evaluated successfully.\n",
      "2023-03-29 00:39:10,615 - MultiprocessingDispatcher - 12 individuals out of 12 in previous population were evaluated successfully.\n",
      "2023-03-29 00:39:40,289 - MultiprocessingDispatcher - 12 individuals out of 12 in previous population were evaluated successfully.\n",
      "2023-03-29 00:40:36,604 - MultiprocessingDispatcher - 20 individuals out of 20 in previous population were evaluated successfully.\n",
      "2023-03-29 00:41:42,859 - MultiprocessingDispatcher - 24 individuals out of 32 in previous population were evaluated successfully.\n",
      "2023-03-29 00:42:58,325 - MultiprocessingDispatcher - 30 individuals out of 32 in previous population were evaluated successfully.\n",
      "2023-03-29 00:44:21,896 - MultiprocessingDispatcher - 46 individuals out of 54 in previous population were evaluated successfully.\n",
      "2023-03-29 00:44:21,912 - GroupedCondition - Optimisation stopped: Time limit is reached\n"
     ]
    },
    {
     "name": "stderr",
     "output_type": "stream",
     "text": [
      "Generations:   0%|          | 1/10000 [09:11<?, ?gen/s]"
     ]
    },
    {
     "name": "stdout",
     "output_type": "stream",
     "text": [
      "2023-03-29 00:44:21,974 - ApiComposer - Hyperparameters tuning started with 6 min. timeout\n"
     ]
    },
    {
     "name": "stderr",
     "output_type": "stream",
     "text": [
      "\n"
     ]
    },
    {
     "name": "stdout",
     "output_type": "stream",
     "text": [
      "2023-03-29 00:45:20,415 - SimultaneousTuner - Initial graph: {'depth': 2, 'length': 2, 'nodes': [mlp, isolation_forest_class]}\n",
      "mlp - {}\n",
      "isolation_forest_class - {} \n",
      "Initial metric: 0.946\n",
      "  0%|          | 4/100000 [04:12<1756:03:49, 63.22s/trial, best loss: -0.9467028]         \n",
      "2023-03-29 00:50:35,488 - SimultaneousTuner - Final graph: {'depth': 2, 'length': 2, 'nodes': [mlp, isolation_forest_class]}\n",
      "mlp - {}\n",
      "isolation_forest_class - {'bootstrap': True, 'max_features': 0.4702551358822476, 'max_samples': 0.4087849771319513}\n",
      "2023-03-29 00:50:35,489 - SimultaneousTuner - Final metric: 0.947\n",
      "2023-03-29 00:50:35,492 - ApiComposer - Hyperparameters tuning finished\n",
      "2023-03-29 00:50:36,126 - ApiComposer - Model generation finished\n",
      "2023-03-29 00:50:51,467 - FEDOT logger - Final pipeline was fitted\n",
      "2023-03-29 00:50:51,469 - FEDOT logger - Final pipeline: {'depth': 2, 'length': 2, 'nodes': [mlp, isolation_forest_class]}\n",
      "mlp - {}\n",
      "isolation_forest_class - {'bootstrap': True, 'max_features': 0.4702551358822476, 'max_samples': 0.4087849771319513}\n",
      "Memory consumption for finish in main session: current 82.3 MiB, max: 138.6 MiB\n"
     ]
    }
   ],
   "source": [
    "fitted_pipeline = api.fit(features, target)"
   ],
   "metadata": {
    "collapsed": false
   }
  },
  {
   "cell_type": "code",
   "execution_count": 6,
   "outputs": [],
   "source": [
    "best_models = api.best_models\n",
    "history = api.history"
   ],
   "metadata": {
    "collapsed": false
   }
  },
  {
   "cell_type": "code",
   "execution_count": 7,
   "outputs": [
    {
     "data": {
      "text/plain": "<Figure size 640x480 with 1 Axes>",
      "image/png": "[encoded data removed]"
     },
     "metadata": {},
     "output_type": "display_data"
    }
   ],
   "source": [
    "history.show()"
   ],
   "metadata": {
    "collapsed": false
   }
  },
  {
   "cell_type": "code",
   "execution_count": 8,
   "outputs": [],
   "source": [
    "with open(\"./best_models.pickle\", \"wb\") as f:\n",
    "    pickle.dump(best_models, f)\n",
    "\n",
    "with open(\"./history.pickle\", \"wb\") as f:\n",
    "    pickle.dump(history, f)\n",
    "\n",
    "with open(\"./api.pickle\", \"wb\") as f:\n",
    "    pickle.dump(api, f)"
   ],
   "metadata": {
    "collapsed": false
   }
  },
  {
   "cell_type": "code",
   "execution_count": null,
   "outputs": [],
   "source": [],
   "metadata": {
    "collapsed": false
   }
  },
  {
   "cell_type": "code",
   "execution_count": 10,
   "outputs": [],
   "source": [
    "with open(r\"C:\\Users\\Konstantin\\PycharmProjects\\NIR\\notebooks\\history.pickle\", \"rb\") as f:\n",
    "    history = pickle.load(f)\n",
    "\n",
    "for i, generation in enumerate(history.individuals):\n",
    "    for j, individual in enumerate(generation.data):\n",
    "        graph = individual.graph\n",
    "        fitness = individual.fitness\n",
    "        pipeline = adapter.restore(graph)\n",
    "        pipeline.save(f\"./ranking_data/pipelines/{i}_{j}\", create_subdir=False)\n",
    "        with open(f\"./ranking_data/metrics/{i}_{j}.pickle\", \"wb\") as f:\n",
    "            pickle.dump({\"fitness\": fitness.value, \"filler\": 1.}, f)  # Filler is required since dataset's MinMaxScaler expects 2 values"
   ],
   "metadata": {
    "collapsed": false
   }
  }
 ],
 "metadata": {
  "kernelspec": {
   "display_name": "Python 3",
   "language": "python",
   "name": "python3"
  },
  "language_info": {
   "codemirror_mode": {
    "name": "ipython",
    "version": 2
   },
   "file_extension": ".py",
   "mimetype": "text/x-python",
   "name": "python",
   "nbconvert_exporter": "python",
   "pygments_lexer": "ipython2",
   "version": "2.7.6"
  }
 },
 "nbformat": 4,
 "nbformat_minor": 0
}
