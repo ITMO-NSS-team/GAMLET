{
 "cells": [
  {
   "cell_type": "code",
   "execution_count": 12,
   "metadata": {},
   "outputs": [],
   "source": [
    "from meta_automl.data_preparation.datasets_loaders.custom_datasets_loader import CustomDatasetsLoader\n",
    "from meta_automl.data_preparation.surrogate_dataset.knowledge_base_to_dataset import dataset_from_id_without_data_loading\n",
    "from meta_automl.data_preparation.models_loaders import KnowledgeBaseModelsLoader\n",
    "import pickle\n",
    "import pandas as pd"
   ]
  },
  {
   "cell_type": "code",
   "execution_count": 13,
   "metadata": {},
   "outputs": [],
   "source": [
    "with open(\"/Users/cherniak/itmo_job/GAMLET/data/no_meta_features_and_fedot_pipelines_raw/id2dataset_id.pickle\", \"rb\") as f:\n",
    "    id2dataset_id = pickle.load(f)"
   ]
  },
  {
   "cell_type": "code",
   "execution_count": 14,
   "metadata": {},
   "outputs": [],
   "source": [
    "datasets_loader = CustomDatasetsLoader(dataset_from_id_func=dataset_from_id_without_data_loading)\n",
    "models_loader = KnowledgeBaseModelsLoader(\"../data/knowledge_base_1_v2\", datasets_loader=datasets_loader)"
   ]
  },
  {
   "cell_type": "code",
   "execution_count": 15,
   "metadata": {},
   "outputs": [],
   "source": [
    "df_datasets = models_loader.parse_datasets(train_test=\"all\", task_type=\"classification\")"
   ]
  },
  {
   "cell_type": "code",
   "execution_count": 16,
   "metadata": {},
   "outputs": [],
   "source": [
    "meta_features = pd.read_csv(\"/Users/cherniak/itmo_job/GAMLET/data/pymfe_meta_features_and_fedot_pipelines/all/datasets.csv\")"
   ]
  },
  {
   "cell_type": "code",
   "execution_count": 17,
   "metadata": {},
   "outputs": [],
   "source": [
    "df = pd.DataFrame(columns=meta_features.columns)"
   ]
  },
  {
   "cell_type": "code",
   "execution_count": 18,
   "metadata": {},
   "outputs": [],
   "source": [
    "for id, dataset_id in id2dataset_id.items():\n",
    "    index = df_datasets[df_datasets.dataset_id == dataset_id].index.item()\n",
    "    df.loc[id] = meta_features.loc[index]"
   ]
  },
  {
   "cell_type": "code",
   "execution_count": 19,
   "metadata": {},
   "outputs": [],
   "source": [
    "df = df.dropna(axis=1)"
   ]
  },
  {
   "cell_type": "code",
   "execution_count": 20,
   "metadata": {},
   "outputs": [],
   "source": [
    "df.to_csv(\"/Users/cherniak/itmo_job/GAMLET/data/no_meta_features_and_fedot_pipelines_raw/datasets.csv\", index=False)"
   ]
  },
  {
   "cell_type": "code",
   "execution_count": null,
   "metadata": {},
   "outputs": [],
   "source": []
  }
 ],
 "metadata": {
  "kernelspec": {
   "display_name": "gamlet",
   "language": "python",
   "name": "python3"
  },
  "language_info": {
   "codemirror_mode": {
    "name": "ipython",
    "version": 3
   },
   "file_extension": ".py",
   "mimetype": "text/x-python",
   "name": "python",
   "nbconvert_exporter": "python",
   "pygments_lexer": "ipython3",
   "version": "3.10.13"
  }
 },
 "nbformat": 4,
 "nbformat_minor": 2
}
