{
 "cells": [
  {
   "cell_type": "code",
   "execution_count": 21,
   "metadata": {},
   "outputs": [],
   "source": [
    "import pickle\n",
    "with open('pipelines.pickle', 'rb') as file:\n",
    "    pipelines = pickle.load(file)"
   ]
  },
  {
   "cell_type": "code",
   "execution_count": 37,
   "metadata": {},
   "outputs": [],
   "source": [
    "import pickle\n",
    "with open('node_map2.pickle', 'rb') as file:\n",
    "    node_map2 = pickle.load(file)"
   ]
  },
  {
   "cell_type": "code",
   "execution_count": 38,
   "metadata": {},
   "outputs": [],
   "source": [
    "import networkx as nx\n",
    "import re\n",
    "from collections import defaultdict\n",
    "\n",
    "def get_attr(str_node):\n",
    "    try:\n",
    "        attr,node = str_node.split('=')\n",
    "    except:\n",
    "        attr,node = '', str_node\n",
    "    return(attr.strip(' )(,'),node.strip(' )(,'))\n",
    "\n",
    "def get_link_node(substrings, level, count_subgraph):\n",
    "    try:\n",
    "        str_node = dict(dict(substrings).copy()[level]).copy()\n",
    "        link_node = str_node[count_subgraph][-1][0]\n",
    "    except:\n",
    "        link_node = ''\n",
    "    return(link_node)    \n",
    "\n",
    "def add_nodes_from_pipeline(pipeline, graph):\n",
    "    level = 0\n",
    "    pipeline = re.sub('\\s+', '', pipeline)\n",
    "    substrings = defaultdict(lambda: defaultdict(list))\n",
    "    substrings_for_edges = defaultdict(lambda: defaultdict(lambda: defaultdict(list)))\n",
    "    current_substring = \"\"\n",
    "    count_subgraph = 0\n",
    "    prev_c = pipeline[0]\n",
    "\n",
    "    for c in pipeline:\n",
    "        if c in ['(',',',')']:\n",
    "            current_substring = current_substring.strip(' )(,')\n",
    "            if current_substring:\n",
    "                attr,node = get_attr(current_substring)\n",
    "                # graph.add_node(f'{node}: {attr}') \n",
    "                graph.add_nodes_from([(f'{node}: {attr}', {'x': node_map2.get(f'{node}: {attr}',-1)})])\n",
    "                link_node = get_link_node(substrings, level-1, count_subgraph)\n",
    "                substrings[level][count_subgraph].append((f'{node}: {attr}', link_node))\n",
    "                substrings_for_edges[count_subgraph][level][link_node].append(f'{node}: {attr}')\n",
    "                current_substring = \"\"     \n",
    "\n",
    "            if c == '(' and prev_c!='(':\n",
    "                level += 1\n",
    "            \n",
    "            if c == '(' and prev_c==',':\n",
    "                count_subgraph += 1    \n",
    "\n",
    "            elif c == ')':\n",
    "                level -= 1      \n",
    "        else:\n",
    "            current_substring += c\n",
    "        prev_c = c\n",
    "\n",
    "          \n",
    "    if current_substring:\n",
    "        current_substring.strip(' )(,')\n",
    "        attr,node = get_attr(current_substring)\n",
    "        # graph.add_node(f'{node}: {attr}')\n",
    "        graph.add_nodes_from([(f'{node}: {attr}', {'x': node_map2.get(f'{node}: {attr}',-1)})])\n",
    "        link_node = get_link_node(substrings, level-1, count_subgraph)\n",
    "        substrings[level][count_subgraph].append((f'{node}: {attr}', link_node))\n",
    "        substrings_for_edges[count_subgraph][level][link_node].append(f'{node}: {attr}')\n",
    "            \n",
    "    return substrings_for_edges, graph\n",
    "\n",
    "def add_edges_from_pipeline(substrings, graph):\n",
    "    for key,subgraph in substrings.items():\n",
    "        for level_key in sorted(subgraph.keys(), reverse=True):\n",
    "            for link_node, nodes in subgraph[level_key].items():\n",
    "                if len(nodes)>2:\n",
    "                    for a,b in zip(nodes[:-1], nodes[1:]):\n",
    "                        if not ((a.endswith('numeric') and b.endswith('nominal')) or (b.endswith('numeric') and a.endswith('nominal'))):\n",
    "                            graph.add_edge(a, b)\n",
    "                        else:\n",
    "                            graph.add_edge(a, link_node)\n",
    "                            graph.add_edge(b, link_node)\n",
    "\n",
    "                elif len(nodes)==2:\n",
    "                    a,b = nodes\n",
    "                    if not ((a.endswith('numeric') and b.endswith('nominal')) or (b.endswith('numeric') and a.endswith('nominal'))):\n",
    "                        graph.add_edge(a, b)\n",
    "                    else:\n",
    "                        graph.add_edge(a, link_node)\n",
    "                        graph.add_edge(b, link_node)\n",
    "\n",
    "                    # graph.add_edge(*nodes)\n",
    "                \n",
    "                if link_node!='':\n",
    "                    graph.add_edge(nodes[-1],link_node)\n",
    "                elif not (key==0 and level_key==0 and link_node==''):\n",
    "                    graph.add_edge(nodes[-1],substrings[0][0][''][0])\n",
    "                    \n",
    "    return graph                "
   ]
  },
  {
   "cell_type": "code",
   "execution_count": 39,
   "metadata": {},
   "outputs": [],
   "source": [
    "def get_node_map(pipeline_graph):\n",
    "    nodes = set()\n",
    "\n",
    "    for graph in pipeline_graph:\n",
    "        temp_nodes = set(graph.nodes)\n",
    "        nodes = nodes.union(temp_nodes)\n",
    "\n",
    "    \n",
    "    nope_map = {node: idx for idx,node in enumerate(nodes)}\n",
    "\n",
    "    return nope_map"
   ]
  },
  {
   "cell_type": "code",
   "execution_count": 40,
   "metadata": {},
   "outputs": [],
   "source": [
    "def get_node_map2(pipeline_graph):\n",
    "    \n",
    "    nodes = set()\n",
    "\n",
    "    for graph in pipeline_graph:\n",
    "        if len(graph.edges) != 0:\n",
    "            temp_nodes = set(graph.nodes)\n",
    "            nodes = nodes.union(temp_nodes)\n",
    "\n",
    "    nope_map = {node: idx for idx,node in enumerate(nodes)}\n",
    "\n",
    "    return nope_map"
   ]
  },
  {
   "cell_type": "code",
   "execution_count": 41,
   "metadata": {},
   "outputs": [
    {
     "name": "stderr",
     "output_type": "stream",
     "text": [
      "100%|██████████| 8098/8098 [00:00<00:00, 9428.91it/s] \n"
     ]
    }
   ],
   "source": [
    "from tqdm import tqdm\n",
    "pipeline_graph = []\n",
    "for pipeline in tqdm(pipelines):\n",
    "    graph = nx.DiGraph()\n",
    "    substrings, graph = add_nodes_from_pipeline(pipeline, graph)\n",
    "    G = add_edges_from_pipeline(substrings, graph)\n",
    "    pipeline_graph.append(G)"
   ]
  },
  {
   "cell_type": "code",
   "execution_count": 42,
   "metadata": {},
   "outputs": [],
   "source": [
    "with open('pipeline_graph.pickle', 'wb') as file:\n",
    "    pickle.dump(pipeline_graph, file)"
   ]
  },
  {
   "cell_type": "code",
   "execution_count": 35,
   "metadata": {},
   "outputs": [
    {
     "data": {
      "text/plain": [
       "AtlasView({'sklearn.tree._classes.DecisionTreeClassifier: decisiontreeclassifier': {}})"
      ]
     },
     "execution_count": 35,
     "metadata": {},
     "output_type": "execute_result"
    }
   ],
   "source": [
    "pipeline_graph[0]['sklearn.compose._column_transformer.ColumnTransformer: columntransformer']"
   ]
  },
  {
   "cell_type": "code",
   "execution_count": 34,
   "metadata": {},
   "outputs": [
    {
     "data": {
      "text/plain": [
       "NodeView(('sklearn.pipeline.Pipeline: ', 'sklearn.compose._column_transformer.ColumnTransformer: columntransformer', 'sklearn.impute._base.SimpleImputer: simpleimputer', 'sklearn.preprocessing._encoders.OneHotEncoder: onehotencoder', 'sklearn.tree._classes.DecisionTreeClassifier: decisiontreeclassifier'))"
      ]
     },
     "execution_count": 34,
     "metadata": {},
     "output_type": "execute_result"
    }
   ],
   "source": [
    "pipeline_graph[0].nodes"
   ]
  },
  {
   "cell_type": "code",
   "execution_count": 43,
   "metadata": {},
   "outputs": [
    {
     "name": "stderr",
     "output_type": "stream",
     "text": [
      "100%|██████████| 8098/8098 [00:00<00:00, 16970.65it/s]\n"
     ]
    }
   ],
   "source": [
    "node_map = get_node_map(pipeline_graph)\n",
    "pipeline_graph_rename = []\n",
    "for graph in tqdm(pipeline_graph):\n",
    "    G = nx.relabel_nodes(graph, node_map)\n",
    "    pipeline_graph_rename.append(G)"
   ]
  },
  {
   "cell_type": "code",
   "execution_count": 36,
   "metadata": {},
   "outputs": [],
   "source": [
    "node_map2 = get_node_map2(pipeline_graph)\n",
    "with open('node_map2.pickle', 'wb') as file:\n",
    "    pickle.dump(node_map2, file)"
   ]
  },
  {
   "cell_type": "code",
   "execution_count": 32,
   "metadata": {},
   "outputs": [
    {
     "name": "stderr",
     "output_type": "stream",
     "text": [
      "100%|██████████| 8098/8098 [36:46<00:00,  3.67it/s]\n"
     ]
    }
   ],
   "source": [
    "# one_graph = nx.DiGraph()\n",
    "# total_edges = 0\n",
    "\n",
    "# for graph in tqdm(pipeline_graph):\n",
    "#     one_graph = nx.disjoint_union(one_graph,graph)\n",
    "#     total_edges += len(graph.edges)"
   ]
  },
  {
   "cell_type": "code",
   "execution_count": 12,
   "metadata": {},
   "outputs": [],
   "source": [
    "with open('node_map.pickle', 'wb') as file:\n",
    "    pickle.dump(node_map, file)"
   ]
  },
  {
   "cell_type": "code",
   "execution_count": 13,
   "metadata": {},
   "outputs": [],
   "source": [
    "with open('pipeline_graph_rename.pickle', 'wb') as file:\n",
    "    pickle.dump(pipeline_graph_rename, file)"
   ]
  },
  {
   "cell_type": "code",
   "execution_count": 44,
   "metadata": {},
   "outputs": [
    {
     "data": {
      "text/plain": [
       "NodeView((1317,))"
      ]
     },
     "execution_count": 44,
     "metadata": {},
     "output_type": "execute_result"
    }
   ],
   "source": [
    "pipeline_graph_rename[1].nodes"
   ]
  },
  {
   "cell_type": "code",
   "execution_count": 45,
   "metadata": {},
   "outputs": [],
   "source": [
    "from torch_geometric.utils.convert import from_networkx\n",
    "pyg_graph = from_networkx(pipeline_graph_rename[1])"
   ]
  },
  {
   "cell_type": "code",
   "execution_count": 46,
   "metadata": {},
   "outputs": [],
   "source": [
    "pyg_graph.y = 0.34"
   ]
  },
  {
   "cell_type": "code",
   "execution_count": 47,
   "metadata": {},
   "outputs": [
    {
     "data": {
      "text/plain": [
       "OutEdgeView([(1258, 1145), (961, 1071), (1071, 1258), (1145, 1492)])"
      ]
     },
     "execution_count": 47,
     "metadata": {},
     "output_type": "execute_result"
    }
   ],
   "source": [
    "pipeline_graph_rename[0].edges"
   ]
  },
  {
   "cell_type": "code",
   "execution_count": 48,
   "metadata": {},
   "outputs": [
    {
     "data": {
      "text/plain": [
       "NodeView((1492, 1258, 961, 1071, 1145))"
      ]
     },
     "execution_count": 48,
     "metadata": {},
     "output_type": "execute_result"
    }
   ],
   "source": [
    "pipeline_graph_rename[0].nodes"
   ]
  },
  {
   "cell_type": "code",
   "execution_count": 49,
   "metadata": {},
   "outputs": [
    {
     "data": {
      "text/plain": [
       "['__call__',\n",
       " '__cat_dim__',\n",
       " '__class__',\n",
       " '__contains__',\n",
       " '__copy__',\n",
       " '__deepcopy__',\n",
       " '__delattr__',\n",
       " '__delitem__',\n",
       " '__dict__',\n",
       " '__dir__',\n",
       " '__doc__',\n",
       " '__eq__',\n",
       " '__format__',\n",
       " '__ge__',\n",
       " '__getattr__',\n",
       " '__getattribute__',\n",
       " '__getitem__',\n",
       " '__getstate__',\n",
       " '__gt__',\n",
       " '__hash__',\n",
       " '__inc__',\n",
       " '__init__',\n",
       " '__init_subclass__',\n",
       " '__iter__',\n",
       " '__le__',\n",
       " '__len__',\n",
       " '__lt__',\n",
       " '__module__',\n",
       " '__ne__',\n",
       " '__new__',\n",
       " '__reduce__',\n",
       " '__reduce_ex__',\n",
       " '__repr__',\n",
       " '__setattr__',\n",
       " '__setitem__',\n",
       " '__setstate__',\n",
       " '__sizeof__',\n",
       " '__str__',\n",
       " '__subclasshook__',\n",
       " '__weakref__',\n",
       " '_all_edges_to_layout',\n",
       " '_edge_attr_cls',\n",
       " '_edge_to_layout',\n",
       " '_get_edge_index',\n",
       " '_get_tensor',\n",
       " '_get_tensor_size',\n",
       " '_multi_get_tensor',\n",
       " '_put_edge_index',\n",
       " '_put_tensor',\n",
       " '_remove_tensor',\n",
       " '_store',\n",
       " '_tensor_attr_cls',\n",
       " '_to_type',\n",
       " 'apply',\n",
       " 'apply_',\n",
       " 'batch',\n",
       " 'clone',\n",
       " 'coalesce',\n",
       " 'contains_isolated_nodes',\n",
       " 'contains_self_loops',\n",
       " 'contiguous',\n",
       " 'coo',\n",
       " 'cpu',\n",
       " 'csc',\n",
       " 'csr',\n",
       " 'cuda',\n",
       " 'debug',\n",
       " 'detach',\n",
       " 'detach_',\n",
       " 'edge_attr',\n",
       " 'edge_index',\n",
       " 'edge_stores',\n",
       " 'edge_weight',\n",
       " 'from_dict',\n",
       " 'get_all_edge_attrs',\n",
       " 'get_all_tensor_attrs',\n",
       " 'get_edge_index',\n",
       " 'get_tensor',\n",
       " 'get_tensor_size',\n",
       " 'has_isolated_nodes',\n",
       " 'has_self_loops',\n",
       " 'is_coalesced',\n",
       " 'is_cuda',\n",
       " 'is_directed',\n",
       " 'is_edge_attr',\n",
       " 'is_node_attr',\n",
       " 'is_undirected',\n",
       " 'items',\n",
       " 'keys',\n",
       " 'multi_get_tensor',\n",
       " 'node_stores',\n",
       " 'num_edge_features',\n",
       " 'num_edges',\n",
       " 'num_faces',\n",
       " 'num_features',\n",
       " 'num_node_features',\n",
       " 'num_nodes',\n",
       " 'pin_memory',\n",
       " 'pos',\n",
       " 'put_edge_index',\n",
       " 'put_tensor',\n",
       " 'record_stream',\n",
       " 'remove_tensor',\n",
       " 'requires_grad_',\n",
       " 'share_memory_',\n",
       " 'size',\n",
       " 'stores',\n",
       " 'stores_as',\n",
       " 'subgraph',\n",
       " 'to',\n",
       " 'to_dict',\n",
       " 'to_heterogeneous',\n",
       " 'to_namedtuple',\n",
       " 'update_tensor',\n",
       " 'validate',\n",
       " 'view',\n",
       " 'x',\n",
       " 'y']"
      ]
     },
     "execution_count": 49,
     "metadata": {},
     "output_type": "execute_result"
    }
   ],
   "source": [
    "dir(pyg_graph)"
   ]
  },
  {
   "cell_type": "code",
   "execution_count": 50,
   "metadata": {},
   "outputs": [
    {
     "data": {
      "text/plain": [
       "tensor([-1])"
      ]
     },
     "execution_count": 50,
     "metadata": {},
     "output_type": "execute_result"
    }
   ],
   "source": [
    "pyg_graph.x"
   ]
  }
 ],
 "metadata": {
  "kernelspec": {
   "display_name": "Python 3.9.16 ('sat')",
   "language": "python",
   "name": "python3"
  },
  "language_info": {
   "codemirror_mode": {
    "name": "ipython",
    "version": 3
   },
   "file_extension": ".py",
   "mimetype": "text/x-python",
   "name": "python",
   "nbconvert_exporter": "python",
   "pygments_lexer": "ipython3",
   "version": "3.9.16"
  },
  "orig_nbformat": 4,
  "vscode": {
   "interpreter": {
    "hash": "794105dfe45acd45667c0ec848c3c17bdbc409cda564f877ba431899b91ef0e2"
   }
  }
 },
 "nbformat": 4,
 "nbformat_minor": 2
}
